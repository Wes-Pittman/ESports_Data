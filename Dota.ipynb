{
 "cells": [
  {
   "cell_type": "markdown",
   "metadata": {},
   "source": [
    "## Imports"
   ]
  },
  {
   "cell_type": "code",
   "execution_count": 236,
   "metadata": {},
   "outputs": [],
   "source": [
    "import pandas as pd\n",
    "import numpy as np\n",
    "import matplotlib as mpl\n",
    "import scipy.stats\n",
    "import statistics\n",
    "import seaborn as sns"
   ]
  },
  {
   "cell_type": "code",
   "execution_count": 159,
   "metadata": {},
   "outputs": [],
   "source": [
    "df = pd.read_csv('tier1_tournament.csv')"
   ]
  },
  {
   "cell_type": "markdown",
   "metadata": {},
   "source": [
    "### Preview"
   ]
  },
  {
   "cell_type": "code",
   "execution_count": 160,
   "metadata": {},
   "outputs": [
    {
     "data": {
      "text/html": [
       "<div>\n",
       "<style scoped>\n",
       "    .dataframe tbody tr th:only-of-type {\n",
       "        vertical-align: middle;\n",
       "    }\n",
       "\n",
       "    .dataframe tbody tr th {\n",
       "        vertical-align: top;\n",
       "    }\n",
       "\n",
       "    .dataframe thead th {\n",
       "        text-align: right;\n",
       "    }\n",
       "</style>\n",
       "<table border=\"1\" class=\"dataframe\">\n",
       "  <thead>\n",
       "    <tr style=\"text-align: right;\">\n",
       "      <th></th>\n",
       "      <th>Unnamed: 0</th>\n",
       "      <th>Tournament_Name</th>\n",
       "      <th>Date</th>\n",
       "      <th>Total_Prize</th>\n",
       "      <th>Num_Participants</th>\n",
       "      <th>Location</th>\n",
       "      <th>First_Place</th>\n",
       "      <th>Second_Place</th>\n",
       "    </tr>\n",
       "  </thead>\n",
       "  <tbody>\n",
       "    <tr>\n",
       "      <th>0</th>\n",
       "      <td>0</td>\n",
       "      <td>The International 2021</td>\n",
       "      <td>Oct 07 - 17, 2021</td>\n",
       "      <td>$40,018,195</td>\n",
       "      <td>18 teams</td>\n",
       "      <td>Bucharest, Romania</td>\n",
       "      <td>TSpirit</td>\n",
       "      <td>PSG.LGD</td>\n",
       "    </tr>\n",
       "    <tr>\n",
       "      <th>1</th>\n",
       "      <td>1</td>\n",
       "      <td>OGA Dota PIT Invitational</td>\n",
       "      <td>Sep 06 - 10, 2021</td>\n",
       "      <td>$275,000</td>\n",
       "      <td>8 teams</td>\n",
       "      <td>Europe</td>\n",
       "      <td>PSG.LGD</td>\n",
       "      <td>TSpirit</td>\n",
       "    </tr>\n",
       "    <tr>\n",
       "      <th>2</th>\n",
       "      <td>2</td>\n",
       "      <td>ESL One Fall 2021</td>\n",
       "      <td>Aug 21 - 29, 2021</td>\n",
       "      <td>$400,000</td>\n",
       "      <td>12 teams</td>\n",
       "      <td>Europe &amp; CIS</td>\n",
       "      <td>Tundra</td>\n",
       "      <td>PSG.LGD</td>\n",
       "    </tr>\n",
       "    <tr>\n",
       "      <th>3</th>\n",
       "      <td>3</td>\n",
       "      <td>ESL One Summer 2021</td>\n",
       "      <td>Jun 16 - 20, 2021</td>\n",
       "      <td>$400,000</td>\n",
       "      <td>12 teams</td>\n",
       "      <td>Europe</td>\n",
       "      <td>T1</td>\n",
       "      <td>VP</td>\n",
       "    </tr>\n",
       "    <tr>\n",
       "      <th>4</th>\n",
       "      <td>4</td>\n",
       "      <td>WePlay AniMajor</td>\n",
       "      <td>Jun 02 - 13, 2021</td>\n",
       "      <td>$500,000</td>\n",
       "      <td>18 teams</td>\n",
       "      <td>Kyiv, Ukraine</td>\n",
       "      <td>PSG.LGD</td>\n",
       "      <td>EG</td>\n",
       "    </tr>\n",
       "  </tbody>\n",
       "</table>\n",
       "</div>"
      ],
      "text/plain": [
       "   Unnamed: 0            Tournament_Name               Date  Total_Prize  \\\n",
       "0           0     The International 2021  Oct 07 - 17, 2021  $40,018,195   \n",
       "1           1  OGA Dota PIT Invitational  Sep 06 - 10, 2021     $275,000   \n",
       "2           2          ESL One Fall 2021  Aug 21 - 29, 2021     $400,000   \n",
       "3           3        ESL One Summer 2021  Jun 16 - 20, 2021     $400,000   \n",
       "4           4            WePlay AniMajor  Jun 02 - 13, 2021     $500,000   \n",
       "\n",
       "  Num_Participants            Location First_Place Second_Place  \n",
       "0         18 teams  Bucharest, Romania     TSpirit      PSG.LGD  \n",
       "1          8 teams              Europe     PSG.LGD      TSpirit  \n",
       "2         12 teams        Europe & CIS      Tundra      PSG.LGD  \n",
       "3         12 teams              Europe          T1           VP  \n",
       "4         18 teams       Kyiv, Ukraine     PSG.LGD           EG  "
      ]
     },
     "execution_count": 160,
     "metadata": {},
     "output_type": "execute_result"
    }
   ],
   "source": [
    "df.head()"
   ]
  },
  {
   "cell_type": "markdown",
   "metadata": {},
   "source": [
    "### Cleaning"
   ]
  },
  {
   "cell_type": "code",
   "execution_count": 161,
   "metadata": {},
   "outputs": [
    {
     "name": "stderr",
     "output_type": "stream",
     "text": [
      "C:\\Users\\pittm\\AppData\\Local\\Temp/ipykernel_9068/2641531135.py:2: FutureWarning: In a future version of pandas all arguments of DataFrame.drop except for the argument 'labels' will be keyword-only\n",
      "  df1 = df.drop(['Unnamed: 0'], 1)\n"
     ]
    },
    {
     "data": {
      "text/html": [
       "<div>\n",
       "<style scoped>\n",
       "    .dataframe tbody tr th:only-of-type {\n",
       "        vertical-align: middle;\n",
       "    }\n",
       "\n",
       "    .dataframe tbody tr th {\n",
       "        vertical-align: top;\n",
       "    }\n",
       "\n",
       "    .dataframe thead th {\n",
       "        text-align: right;\n",
       "    }\n",
       "</style>\n",
       "<table border=\"1\" class=\"dataframe\">\n",
       "  <thead>\n",
       "    <tr style=\"text-align: right;\">\n",
       "      <th></th>\n",
       "      <th>Tournament_Name</th>\n",
       "      <th>Date</th>\n",
       "      <th>Total_Prize</th>\n",
       "      <th>Num_Participants</th>\n",
       "      <th>Location</th>\n",
       "      <th>First_Place</th>\n",
       "      <th>Second_Place</th>\n",
       "    </tr>\n",
       "  </thead>\n",
       "  <tbody>\n",
       "    <tr>\n",
       "      <th>0</th>\n",
       "      <td>The International 2021</td>\n",
       "      <td>Oct 07 - 17, 2021</td>\n",
       "      <td>$40,018,195</td>\n",
       "      <td>18 teams</td>\n",
       "      <td>Bucharest, Romania</td>\n",
       "      <td>TSpirit</td>\n",
       "      <td>PSG.LGD</td>\n",
       "    </tr>\n",
       "    <tr>\n",
       "      <th>1</th>\n",
       "      <td>OGA Dota PIT Invitational</td>\n",
       "      <td>Sep 06 - 10, 2021</td>\n",
       "      <td>$275,000</td>\n",
       "      <td>8 teams</td>\n",
       "      <td>Europe</td>\n",
       "      <td>PSG.LGD</td>\n",
       "      <td>TSpirit</td>\n",
       "    </tr>\n",
       "    <tr>\n",
       "      <th>2</th>\n",
       "      <td>ESL One Fall 2021</td>\n",
       "      <td>Aug 21 - 29, 2021</td>\n",
       "      <td>$400,000</td>\n",
       "      <td>12 teams</td>\n",
       "      <td>Europe &amp; CIS</td>\n",
       "      <td>Tundra</td>\n",
       "      <td>PSG.LGD</td>\n",
       "    </tr>\n",
       "    <tr>\n",
       "      <th>3</th>\n",
       "      <td>ESL One Summer 2021</td>\n",
       "      <td>Jun 16 - 20, 2021</td>\n",
       "      <td>$400,000</td>\n",
       "      <td>12 teams</td>\n",
       "      <td>Europe</td>\n",
       "      <td>T1</td>\n",
       "      <td>VP</td>\n",
       "    </tr>\n",
       "    <tr>\n",
       "      <th>4</th>\n",
       "      <td>WePlay AniMajor</td>\n",
       "      <td>Jun 02 - 13, 2021</td>\n",
       "      <td>$500,000</td>\n",
       "      <td>18 teams</td>\n",
       "      <td>Kyiv, Ukraine</td>\n",
       "      <td>PSG.LGD</td>\n",
       "      <td>EG</td>\n",
       "    </tr>\n",
       "  </tbody>\n",
       "</table>\n",
       "</div>"
      ],
      "text/plain": [
       "             Tournament_Name               Date  Total_Prize Num_Participants  \\\n",
       "0     The International 2021  Oct 07 - 17, 2021  $40,018,195         18 teams   \n",
       "1  OGA Dota PIT Invitational  Sep 06 - 10, 2021     $275,000          8 teams   \n",
       "2          ESL One Fall 2021  Aug 21 - 29, 2021     $400,000         12 teams   \n",
       "3        ESL One Summer 2021  Jun 16 - 20, 2021     $400,000         12 teams   \n",
       "4            WePlay AniMajor  Jun 02 - 13, 2021     $500,000         18 teams   \n",
       "\n",
       "             Location First_Place Second_Place  \n",
       "0  Bucharest, Romania     TSpirit      PSG.LGD  \n",
       "1              Europe     PSG.LGD      TSpirit  \n",
       "2        Europe & CIS      Tundra      PSG.LGD  \n",
       "3              Europe          T1           VP  \n",
       "4       Kyiv, Ukraine     PSG.LGD           EG  "
      ]
     },
     "execution_count": 161,
     "metadata": {},
     "output_type": "execute_result"
    }
   ],
   "source": [
    "#Dropping Index from Excel\n",
    "df1 = df.drop(['Unnamed: 0'], 1)\n",
    "df1.head()"
   ]
  },
  {
   "cell_type": "code",
   "execution_count": 162,
   "metadata": {},
   "outputs": [
    {
     "name": "stdout",
     "output_type": "stream",
     "text": [
      "Unnamed: 0 - 0%\n",
      "Tournament_Name - 0%\n",
      "Date - 0%\n",
      "Total_Prize - 0%\n",
      "Num_Participants - 0%\n",
      "Location - 0%\n",
      "First_Place - 0%\n",
      "Second_Place - 2%\n"
     ]
    }
   ],
   "source": [
    "#Missing Data by Percent\n",
    "for col in df.columns:\n",
    "    pct_missing = np.mean(df[col].isnull())\n",
    "    print('{} - {}%'.format(col, round(pct_missing*100)))"
   ]
  },
  {
   "cell_type": "code",
   "execution_count": 163,
   "metadata": {},
   "outputs": [
    {
     "name": "stderr",
     "output_type": "stream",
     "text": [
      "C:\\Users\\pittm\\AppData\\Local\\Temp/ipykernel_9068/982558586.py:5: FutureWarning: The default value of regex will change from True to False in a future version. In addition, single character regular expressions will *not* be treated as literal strings when regex=True.\n",
      "  df1['Total_Prize'] = df1['Total_Prize'].str.replace('$', '').replace(',','')\n"
     ]
    },
    {
     "data": {
      "text/html": [
       "<div>\n",
       "<style scoped>\n",
       "    .dataframe tbody tr th:only-of-type {\n",
       "        vertical-align: middle;\n",
       "    }\n",
       "\n",
       "    .dataframe tbody tr th {\n",
       "        vertical-align: top;\n",
       "    }\n",
       "\n",
       "    .dataframe thead th {\n",
       "        text-align: right;\n",
       "    }\n",
       "</style>\n",
       "<table border=\"1\" class=\"dataframe\">\n",
       "  <thead>\n",
       "    <tr style=\"text-align: right;\">\n",
       "      <th></th>\n",
       "      <th>Tournament_Name</th>\n",
       "      <th>Date</th>\n",
       "      <th>Total_Prize</th>\n",
       "      <th>Teams</th>\n",
       "      <th>Location</th>\n",
       "      <th>First_Place</th>\n",
       "      <th>Second_Place</th>\n",
       "    </tr>\n",
       "  </thead>\n",
       "  <tbody>\n",
       "    <tr>\n",
       "      <th>0</th>\n",
       "      <td>The International 2021</td>\n",
       "      <td>Oct 07 - 17, 2021</td>\n",
       "      <td>40018195</td>\n",
       "      <td>18</td>\n",
       "      <td>Bucharest, Romania</td>\n",
       "      <td>TSpirit</td>\n",
       "      <td>PSG.LGD</td>\n",
       "    </tr>\n",
       "    <tr>\n",
       "      <th>1</th>\n",
       "      <td>OGA Dota PIT Invitational</td>\n",
       "      <td>Sep 06 - 10, 2021</td>\n",
       "      <td>275000</td>\n",
       "      <td>8</td>\n",
       "      <td>Europe</td>\n",
       "      <td>PSG.LGD</td>\n",
       "      <td>TSpirit</td>\n",
       "    </tr>\n",
       "    <tr>\n",
       "      <th>2</th>\n",
       "      <td>ESL One Fall 2021</td>\n",
       "      <td>Aug 21 - 29, 2021</td>\n",
       "      <td>400000</td>\n",
       "      <td>12</td>\n",
       "      <td>Europe &amp; CIS</td>\n",
       "      <td>Tundra</td>\n",
       "      <td>PSG.LGD</td>\n",
       "    </tr>\n",
       "    <tr>\n",
       "      <th>3</th>\n",
       "      <td>ESL One Summer 2021</td>\n",
       "      <td>Jun 16 - 20, 2021</td>\n",
       "      <td>400000</td>\n",
       "      <td>12</td>\n",
       "      <td>Europe</td>\n",
       "      <td>T1</td>\n",
       "      <td>VP</td>\n",
       "    </tr>\n",
       "    <tr>\n",
       "      <th>4</th>\n",
       "      <td>WePlay AniMajor</td>\n",
       "      <td>Jun 02 - 13, 2021</td>\n",
       "      <td>500000</td>\n",
       "      <td>18</td>\n",
       "      <td>Kyiv, Ukraine</td>\n",
       "      <td>PSG.LGD</td>\n",
       "      <td>EG</td>\n",
       "    </tr>\n",
       "  </tbody>\n",
       "</table>\n",
       "</div>"
      ],
      "text/plain": [
       "             Tournament_Name               Date Total_Prize Teams  \\\n",
       "0     The International 2021  Oct 07 - 17, 2021    40018195   18    \n",
       "1  OGA Dota PIT Invitational  Sep 06 - 10, 2021      275000    8    \n",
       "2          ESL One Fall 2021  Aug 21 - 29, 2021      400000   12    \n",
       "3        ESL One Summer 2021  Jun 16 - 20, 2021      400000   12    \n",
       "4            WePlay AniMajor  Jun 02 - 13, 2021      500000   18    \n",
       "\n",
       "             Location First_Place Second_Place  \n",
       "0  Bucharest, Romania     TSpirit      PSG.LGD  \n",
       "1              Europe     PSG.LGD      TSpirit  \n",
       "2        Europe & CIS      Tundra      PSG.LGD  \n",
       "3              Europe          T1           VP  \n",
       "4       Kyiv, Ukraine     PSG.LGD           EG  "
      ]
     },
     "execution_count": 163,
     "metadata": {},
     "output_type": "execute_result"
    }
   ],
   "source": [
    "# Changing the Num_Participants column data and name for consistency\n",
    "df1.rename({'Num_Participants':'Teams'}, axis='columns', inplace = True)\n",
    "#Removed \"teams\" & \"$\" from column\n",
    "df1['Teams'] = df1['Teams'].str.replace('teams', '').replace(' ','')\n",
    "df1['Total_Prize'] = df1['Total_Prize'].str.replace('$', '').replace(',','')\n",
    "df1['Teams'] = df1['Teams'].str.replace(' ','')\n",
    "df1['Total_Prize'] = df1['Total_Prize'].str.replace(',','')\n",
    "df1.head()"
   ]
  },
  {
   "cell_type": "code",
   "execution_count": 168,
   "metadata": {},
   "outputs": [],
   "source": [
    "#Changing Data Types\n",
    "convert_dict = {'Teams': float,\n",
    "                'Total_Prize': float\n",
    "               }\n",
    "df2 = df1.astype(convert_dict, errors=\"ignore\")"
   ]
  },
  {
   "cell_type": "code",
   "execution_count": 169,
   "metadata": {},
   "outputs": [
    {
     "data": {
      "text/html": [
       "<div>\n",
       "<style scoped>\n",
       "    .dataframe tbody tr th:only-of-type {\n",
       "        vertical-align: middle;\n",
       "    }\n",
       "\n",
       "    .dataframe tbody tr th {\n",
       "        vertical-align: top;\n",
       "    }\n",
       "\n",
       "    .dataframe thead th {\n",
       "        text-align: right;\n",
       "    }\n",
       "</style>\n",
       "<table border=\"1\" class=\"dataframe\">\n",
       "  <thead>\n",
       "    <tr style=\"text-align: right;\">\n",
       "      <th></th>\n",
       "      <th>Tournament_Name</th>\n",
       "      <th>Date</th>\n",
       "      <th>Total_Prize</th>\n",
       "      <th>Teams</th>\n",
       "      <th>Location</th>\n",
       "      <th>First_Place</th>\n",
       "      <th>Second_Place</th>\n",
       "    </tr>\n",
       "  </thead>\n",
       "  <tbody>\n",
       "    <tr>\n",
       "      <th>0</th>\n",
       "      <td>The International 2021</td>\n",
       "      <td>Oct 07 - 17, 2021</td>\n",
       "      <td>40018195.0</td>\n",
       "      <td>18.0</td>\n",
       "      <td>Bucharest, Romania</td>\n",
       "      <td>TSpirit</td>\n",
       "      <td>PSG.LGD</td>\n",
       "    </tr>\n",
       "    <tr>\n",
       "      <th>1</th>\n",
       "      <td>OGA Dota PIT Invitational</td>\n",
       "      <td>Sep 06 - 10, 2021</td>\n",
       "      <td>275000.0</td>\n",
       "      <td>8.0</td>\n",
       "      <td>Europe</td>\n",
       "      <td>PSG.LGD</td>\n",
       "      <td>TSpirit</td>\n",
       "    </tr>\n",
       "    <tr>\n",
       "      <th>2</th>\n",
       "      <td>ESL One Fall 2021</td>\n",
       "      <td>Aug 21 - 29, 2021</td>\n",
       "      <td>400000.0</td>\n",
       "      <td>12.0</td>\n",
       "      <td>Europe &amp; CIS</td>\n",
       "      <td>Tundra</td>\n",
       "      <td>PSG.LGD</td>\n",
       "    </tr>\n",
       "    <tr>\n",
       "      <th>3</th>\n",
       "      <td>ESL One Summer 2021</td>\n",
       "      <td>Jun 16 - 20, 2021</td>\n",
       "      <td>400000.0</td>\n",
       "      <td>12.0</td>\n",
       "      <td>Europe</td>\n",
       "      <td>T1</td>\n",
       "      <td>VP</td>\n",
       "    </tr>\n",
       "    <tr>\n",
       "      <th>4</th>\n",
       "      <td>WePlay AniMajor</td>\n",
       "      <td>Jun 02 - 13, 2021</td>\n",
       "      <td>500000.0</td>\n",
       "      <td>18.0</td>\n",
       "      <td>Kyiv, Ukraine</td>\n",
       "      <td>PSG.LGD</td>\n",
       "      <td>EG</td>\n",
       "    </tr>\n",
       "  </tbody>\n",
       "</table>\n",
       "</div>"
      ],
      "text/plain": [
       "             Tournament_Name               Date  Total_Prize  Teams  \\\n",
       "0     The International 2021  Oct 07 - 17, 2021   40018195.0   18.0   \n",
       "1  OGA Dota PIT Invitational  Sep 06 - 10, 2021     275000.0    8.0   \n",
       "2          ESL One Fall 2021  Aug 21 - 29, 2021     400000.0   12.0   \n",
       "3        ESL One Summer 2021  Jun 16 - 20, 2021     400000.0   12.0   \n",
       "4            WePlay AniMajor  Jun 02 - 13, 2021     500000.0   18.0   \n",
       "\n",
       "             Location First_Place Second_Place  \n",
       "0  Bucharest, Romania     TSpirit      PSG.LGD  \n",
       "1              Europe     PSG.LGD      TSpirit  \n",
       "2        Europe & CIS      Tundra      PSG.LGD  \n",
       "3              Europe          T1           VP  \n",
       "4       Kyiv, Ukraine     PSG.LGD           EG  "
      ]
     },
     "execution_count": 169,
     "metadata": {},
     "output_type": "execute_result"
    }
   ],
   "source": [
    "df2.head()"
   ]
  },
  {
   "cell_type": "code",
   "execution_count": 170,
   "metadata": {},
   "outputs": [
    {
     "data": {
      "text/plain": [
       "Tournament_Name     object\n",
       "Date                object\n",
       "Total_Prize        float64\n",
       "Teams              float64\n",
       "Location            object\n",
       "First_Place         object\n",
       "Second_Place        object\n",
       "dtype: object"
      ]
     },
     "execution_count": 170,
     "metadata": {},
     "output_type": "execute_result"
    }
   ],
   "source": [
    "df2.dtypes"
   ]
  },
  {
   "cell_type": "markdown",
   "metadata": {},
   "source": [
    "## Estimates of Location"
   ]
  },
  {
   "cell_type": "code",
   "execution_count": 175,
   "metadata": {},
   "outputs": [
    {
     "data": {
      "text/plain": [
       "1620735.5578231292"
      ]
     },
     "execution_count": 175,
     "metadata": {},
     "output_type": "execute_result"
    }
   ],
   "source": [
    "# Mean of Teams\n",
    "df2['Total_Prize'].mean()"
   ]
  },
  {
   "cell_type": "code",
   "execution_count": 173,
   "metadata": {},
   "outputs": [
    {
     "data": {
      "text/plain": [
       "2298961.7018954623"
      ]
     },
     "execution_count": 173,
     "metadata": {},
     "output_type": "execute_result"
    }
   ],
   "source": [
    "#Weighted Mean\n",
    "#np.average(df2[\"Total_Prize\"], weights=df2[\"Teams\"])\n",
    "#Not sure useful"
   ]
  },
  {
   "cell_type": "code",
   "execution_count": 176,
   "metadata": {},
   "outputs": [
    {
     "data": {
      "text/plain": [
       "355821.06722689077"
      ]
     },
     "execution_count": 176,
     "metadata": {},
     "output_type": "execute_result"
    }
   ],
   "source": [
    "# Trimmed Mean of Prize\n",
    "\n",
    "scipy.stats.trim_mean(df2[\"Total_Prize\"], 0.1)"
   ]
  },
  {
   "cell_type": "code",
   "execution_count": 179,
   "metadata": {},
   "outputs": [
    {
     "data": {
      "text/plain": [
       "195274.0"
      ]
     },
     "execution_count": 179,
     "metadata": {},
     "output_type": "execute_result"
    }
   ],
   "source": [
    "# Median of Prize\n",
    "# Better representation on than Mean\n",
    "\n",
    "df2[\"Total_Prize\"].median()"
   ]
  },
  {
   "cell_type": "code",
   "execution_count": 181,
   "metadata": {},
   "outputs": [],
   "source": [
    "#Percentile\n",
    "q3 = np.percentile(df2[\"Total_Prize\"],75)\n",
    "q1 = np.percentile(df2[\"Total_Prize\"],25)"
   ]
  },
  {
   "cell_type": "markdown",
   "metadata": {},
   "source": [
    "## Estimates of Variability"
   ]
  },
  {
   "cell_type": "code",
   "execution_count": 184,
   "metadata": {},
   "outputs": [
    {
     "data": {
      "text/plain": [
       "31833306971719.305"
      ]
     },
     "execution_count": 184,
     "metadata": {},
     "output_type": "execute_result"
    }
   ],
   "source": [
    "# Variance\n",
    "statistics.variance(df2[\"Total_Prize\"])"
   ]
  },
  {
   "cell_type": "code",
   "execution_count": 185,
   "metadata": {},
   "outputs": [
    {
     "data": {
      "text/plain": [
       "5642101.290451927"
      ]
     },
     "execution_count": 185,
     "metadata": {},
     "output_type": "execute_result"
    }
   ],
   "source": [
    "#Standard Deviation\n",
    "\n",
    "statistics.stdev(df2[\"Total_Prize\"])"
   ]
  },
  {
   "cell_type": "code",
   "execution_count": 186,
   "metadata": {},
   "outputs": [
    {
     "data": {
      "text/plain": [
       "0.0"
      ]
     },
     "execution_count": 186,
     "metadata": {},
     "output_type": "execute_result"
    }
   ],
   "source": [
    "# Manhattan Norm\n",
    "\n",
    "np.mean(np.absolute(df2[\"Total_Prize\"]) - np.mean(df2[\"Total_Prize\"]))"
   ]
  },
  {
   "cell_type": "code",
   "execution_count": 187,
   "metadata": {},
   "outputs": [
    {
     "data": {
      "text/plain": [
       "0.0"
      ]
     },
     "execution_count": 187,
     "metadata": {},
     "output_type": "execute_result"
    }
   ],
   "source": [
    "#Median Absolute Deviation\n",
    "\n",
    "np.median(np.absolute(df2[\"Total_Prize\"]) - np.median(df2[\"Total_Prize\"]))"
   ]
  },
  {
   "cell_type": "code",
   "execution_count": 188,
   "metadata": {},
   "outputs": [
    {
     "data": {
      "text/plain": [
       "588176.5"
      ]
     },
     "execution_count": 188,
     "metadata": {},
     "output_type": "execute_result"
    }
   ],
   "source": [
    "#Interquartile Range\n",
    "\n",
    "iqr = q3 - q1\n",
    "iqr"
   ]
  },
  {
   "cell_type": "markdown",
   "metadata": {},
   "source": [
    "## Exploring the Data Distribution"
   ]
  },
  {
   "cell_type": "code",
   "execution_count": 196,
   "metadata": {},
   "outputs": [
    {
     "data": {
      "text/plain": [
       "<AxesSubplot:>"
      ]
     },
     "execution_count": 196,
     "metadata": {},
     "output_type": "execute_result"
    },
    {
     "data": {
      "image/png": "[encoded data removed]",
      "text/plain": [
       "<Figure size 432x288 with 1 Axes>"
      ]
     },
     "metadata": {
      "needs_background": "light"
     },
     "output_type": "display_data"
    }
   ],
   "source": [
    "# Box Plot for Prize\n",
    "\n",
    "df2.boxplot(\"Total_Prize\", None,None)"
   ]
  },
  {
   "cell_type": "code",
   "execution_count": 197,
   "metadata": {},
   "outputs": [
    {
     "data": {
      "text/plain": [
       "<AxesSubplot:>"
      ]
     },
     "execution_count": 197,
     "metadata": {},
     "output_type": "execute_result"
    },
    {
     "data": {
      "image/png": "[encoded data removed]",
      "text/plain": [
       "<Figure size 432x288 with 1 Axes>"
      ]
     },
     "metadata": {
      "needs_background": "light"
     },
     "output_type": "display_data"
    }
   ],
   "source": [
    "#Box Plot for Teams\n",
    "df2.boxplot(\"Teams\", None,None)"
   ]
  },
  {
   "cell_type": "code",
   "execution_count": 199,
   "metadata": {},
   "outputs": [
    {
     "data": {
      "text/plain": [
       "0      (36017375.5, 40018195.0]\n",
       "1       (-30008.195, 4010819.5]\n",
       "2       (-30008.195, 4010819.5]\n",
       "3       (-30008.195, 4010819.5]\n",
       "4       (-30008.195, 4010819.5]\n",
       "                 ...           \n",
       "142     (-30008.195, 4010819.5]\n",
       "143     (-30008.195, 4010819.5]\n",
       "144     (-30008.195, 4010819.5]\n",
       "145     (-30008.195, 4010819.5]\n",
       "146     (-30008.195, 4010819.5]\n",
       "Name: Total_Prize, Length: 147, dtype: category\n",
       "Categories (10, interval[float64, right]): [(-30008.195, 4010819.5] < (4010819.5, 8011639.0] < (8011639.0, 12012458.5] < (12012458.5, 16013278.0] ... (24014917.0, 28015736.5] < (28015736.5, 32016556.0] < (32016556.0, 36017375.5] < (36017375.5, 40018195.0]]"
      ]
     },
     "execution_count": 199,
     "metadata": {},
     "output_type": "execute_result"
    }
   ],
   "source": [
    "# Frequency Table\n",
    "'''\n",
    "freq_table = df2.copy()\n",
    "freq_table[\"freq\"] = pd.cut(df2[\"Total_Prize\"],10)\n",
    "freq_table.groupby(\"freq\")[\"Placement\"].count().reset_index()\n",
    "'''\n",
    "#Need to make a placement or rank column for number of times a team as been in 1st, maybe 2nd\n"
   ]
  },
  {
   "cell_type": "code",
   "execution_count": 205,
   "metadata": {},
   "outputs": [
    {
     "data": {
      "text/plain": [
       "(array([140.,   0.,   0.,   1.,   0.,   1.,   1.,   0.,   2.,   0.,   0.,\n",
       "          1.,   1.]),\n",
       " array([1.00000000e+04, 3.08755346e+06, 6.16510692e+06, 9.24266038e+06,\n",
       "        1.23202138e+07, 1.53977673e+07, 1.84753208e+07, 2.15528742e+07,\n",
       "        2.46304277e+07, 2.77079812e+07, 3.07855346e+07, 3.38630881e+07,\n",
       "        3.69406415e+07, 4.00181950e+07]),\n",
       " <BarContainer object of 13 artists>)"
      ]
     },
     "execution_count": 205,
     "metadata": {},
     "output_type": "execute_result"
    },
    {
     "data": {
      "image/png": "[encoded data removed]",
      "text/plain": [
       "<Figure size 432x288 with 1 Axes>"
      ]
     },
     "metadata": {
      "needs_background": "light"
     },
     "output_type": "display_data"
    }
   ],
   "source": [
    "# Histogram\n",
    "mpl.pyplot.hist(x=df2[\"Total_Prize\"], bins= 'doane', color='green',alpha=0.7,rwidth=0.85)\n",
    "\n",
    "# y is number of tournaments , x is prize money"
   ]
  },
  {
   "cell_type": "code",
   "execution_count": 207,
   "metadata": {},
   "outputs": [
    {
     "name": "stderr",
     "output_type": "stream",
     "text": [
      "C:\\Users\\pittm\\AppData\\Local\\Programs\\Python\\Python310\\lib\\site-packages\\numpy\\lib\\histograms.py:906: RuntimeWarning: invalid value encountered in true_divide\n",
      "  return n/db/n.sum(), bin_edges\n"
     ]
    },
    {
     "data": {
      "text/plain": [
       "Text(0.5, 0, 'Total Prizes per Tournament')"
      ]
     },
     "execution_count": 207,
     "metadata": {},
     "output_type": "execute_result"
    },
    {
     "data": {
      "image/png": "[encoded data removed]",
      "text/plain": [
       "<Figure size 432x288 with 1 Axes>"
      ]
     },
     "metadata": {
      "needs_background": "light"
     },
     "output_type": "display_data"
    }
   ],
   "source": [
    "# Density Plot\n",
    "# Need to tinker\n",
    "\"\"\"ax = df2[\"Total_Prize\"].plot.hist(density=True, xlim=[0,12], bins=range(1,12))\n",
    "df2[\"Total_Prize\"].plot.density(ax=ax)\n",
    "ax.set_xlabel(\"Total Prizes per Tournament\")\"\"\"\n"
   ]
  },
  {
   "cell_type": "markdown",
   "metadata": {},
   "source": [
    "## Binary and Categorical Data"
   ]
  },
  {
   "cell_type": "code",
   "execution_count": 209,
   "metadata": {},
   "outputs": [
    {
     "data": {
      "text/plain": [
       "0    1000000.0\n",
       "dtype: float64"
      ]
     },
     "execution_count": 209,
     "metadata": {},
     "output_type": "execute_result"
    }
   ],
   "source": [
    "df2[\"Total_Prize\"].mode()"
   ]
  },
  {
   "cell_type": "code",
   "execution_count": 224,
   "metadata": {},
   "outputs": [
    {
     "data": {
      "text/plain": [
       "Text(0, 0.5, 'Prize Money in Millions')"
      ]
     },
     "execution_count": 224,
     "metadata": {},
     "output_type": "execute_result"
    },
    {
     "data": {
      "image/png": "[encoded data removed]",
      "text/plain": [
       "<Figure size 432x288 with 1 Axes>"
      ]
     },
     "metadata": {
      "needs_background": "light"
     },
     "output_type": "display_data"
    }
   ],
   "source": [
    "#Bar Chart\n",
    "\n",
    "ax = df2.iloc[:10].plot.bar(x=\"First_Place\", y=\"Total_Prize\", legend=True)\n",
    "ax.set_xlabel('Team')\n",
    "ax.set_ylabel('Prize Money in Millions')"
   ]
  },
  {
   "cell_type": "code",
   "execution_count": 232,
   "metadata": {},
   "outputs": [
    {
     "data": {
      "text/plain": [
       "(-1.1063546469753431,\n",
       " 1.1071562133179818,\n",
       " -1.1083199747016068,\n",
       " 1.100396189271505)"
      ]
     },
     "execution_count": 232,
     "metadata": {},
     "output_type": "execute_result"
    },
    {
     "data": {
      "image/png": "[encoded data removed]",
      "text/plain": [
       "<Figure size 432x288 with 1 Axes>"
      ]
     },
     "metadata": {},
     "output_type": "display_data"
    }
   ],
   "source": [
    "#Pie Chart\n",
    "#Gross but this is practice\n",
    "\n",
    "pie_data = df2.iloc[:5]\n",
    "mpl.pyplot.pie(pie_data[\"Total_Prize\"], labels=pie_data[\"First_Place\"],autopct='%1.1f%%', shadow=True, startangle=90)\n",
    "mpl.pyplot.axis('equal')"
   ]
  },
  {
   "cell_type": "markdown",
   "metadata": {},
   "source": [
    "## Correlation\n",
    "\n",
    "Not going to complete unless I add more fields\n"
   ]
  },
  {
   "cell_type": "code",
   "execution_count": 235,
   "metadata": {},
   "outputs": [
    {
     "data": {
      "text/plain": [
       "'df2.plot.scatter(x=\"Placement\", y=\"Total_Prize\")'"
      ]
     },
     "execution_count": 235,
     "metadata": {},
     "output_type": "execute_result"
    }
   ],
   "source": [
    "# Scatter? maybe for placement and prize?\n",
    "\n",
    "\"\"\"df2.plot.scatter(x=\"Placement\", y=\"Total_Prize\")\"\"\""
   ]
  },
  {
   "cell_type": "code",
   "execution_count": 237,
   "metadata": {},
   "outputs": [
    {
     "data": {
      "text/plain": [
       "<AxesSubplot:xlabel='Teams'>"
      ]
     },
     "execution_count": 237,
     "metadata": {},
     "output_type": "execute_result"
    },
    {
     "data": {
      "image/png": "[encoded data removed]",
      "text/plain": [
       "<Figure size 432x288 with 1 Axes>"
      ]
     },
     "metadata": {
      "needs_background": "light"
     },
     "output_type": "display_data"
    }
   ],
   "source": [
    "#Violin Plot\n",
    "sns.violinplot(x=df2[\"Teams\"])"
   ]
  }
 ],
 "metadata": {
  "interpreter": {
   "hash": "d950b3d849c4f10613f22eff3cfb054077735e9c04072803534caa7d4865ee02"
  },
  "kernelspec": {
   "display_name": "Python 3.10.0 64-bit",
   "language": "python",
   "name": "python3"
  },
  "language_info": {
   "codemirror_mode": {
    "name": "ipython",
    "version": 3
   },
   "file_extension": ".py",
   "mimetype": "text/x-python",
   "name": "python",
   "nbconvert_exporter": "python",
   "pygments_lexer": "ipython3",
   "version": "3.10.0"
  },
  "orig_nbformat": 4
 },
 "nbformat": 4,
 "nbformat_minor": 2
}
